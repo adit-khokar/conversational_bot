{
 "cells": [
  {
   "cell_type": "code",
   "execution_count": 26,
   "metadata": {},
   "outputs": [],
   "source": [
    "text = \"Your hands, up close, are anything but smooth. With peaks and valleys, folds and rifts, there are plenty of hiding places for a virus to stick. If you then touch your face, the virus can infect you. But there are two extraordinarily simple ways you can keep that from happening: soap and water, and hand sanitizer. So which is better? Alex Rosenthal and Pall Thordarson investigate. \""
   ]
  },
  {
   "cell_type": "code",
   "execution_count": 10,
   "metadata": {},
   "outputs": [],
   "source": [
    "import spacy\n",
    "nlp = spacy.load(\"en_core_web_sm\")"
   ]
  },
  {
   "cell_type": "code",
   "execution_count": 16,
   "metadata": {},
   "outputs": [
    {
     "output_type": "stream",
     "name": "stdout",
     "text": "Nationalities or religious or political groups\nHello UH interjection\nworld NN noun, singular or mass\n"
    }
   ],
   "source": [
    "print(spacy.explain(\"NORP\"))\n",
    "# Nationalities or religious or political groups\n",
    "\n",
    "doc = nlp(\"Hello world\")\n",
    "for word in doc:\n",
    "   print(word.text, word.tag_, spacy.explain(word.tag_))"
   ]
  },
  {
   "cell_type": "code",
   "execution_count": 17,
   "metadata": {},
   "outputs": [],
   "source": [
    "doc = nlp(\"Some text\")\n",
    "\n",
    "# Construction 2\n",
    "from spacy.tokens import Doc\n",
    "words = [\"hello\", \"world\", \"!\"]\n",
    "spaces = [True, False, False]\n",
    "doc = Doc(nlp.vocab, words=words, spaces=spaces)"
   ]
  },
  {
   "cell_type": "code",
   "execution_count": 25,
   "metadata": {},
   "outputs": [
    {
     "output_type": "stream",
     "name": "stdout",
     "text": "it\n"
    }
   ],
   "source": [
    "doc = nlp(\"Give it back! He pleaded.\")\n",
    "span = doc[1:2]\n",
    "print(span)"
   ]
  },
  {
   "cell_type": "code",
   "execution_count": 27,
   "metadata": {},
   "outputs": [],
   "source": [
    "doc = nlp(text)"
   ]
  },
  {
   "cell_type": "code",
   "execution_count": 42,
   "metadata": {},
   "outputs": [],
   "source": [
    "sentences = [sent for sent in doc.sents]"
   ]
  },
  {
   "cell_type": "code",
   "execution_count": 43,
   "metadata": {},
   "outputs": [
    {
     "output_type": "execute_result",
     "data": {
      "text/plain": "[Your hands, up close, are anything but smooth.,\n With peaks and valleys, folds and rifts, there are plenty of hiding places for a virus to stick.,\n If you then touch your face, the virus can infect you.,\n But there are two extraordinarily simple ways you can keep that from happening: soap and water, and hand sanitizer.,\n So which is better?,\n Alex Rosenthal and Pall Thordarson investigate.]"
     },
     "metadata": {},
     "execution_count": 43
    }
   ],
   "source": [
    "sentences"
   ]
  },
  {
   "cell_type": "code",
   "execution_count": 47,
   "metadata": {},
   "outputs": [
    {
     "output_type": "stream",
     "name": "stdout",
     "text": "Your hands \t\t:\t\t hands \t\t:\t\t nsubj \t\t:\t\t are \n\nanything \t\t:\t\t anything \t\t:\t\t attr \t\t:\t\t are \n\npeaks \t\t:\t\t peaks \t\t:\t\t pobj \t\t:\t\t With \n\nvalleys \t\t:\t\t valleys \t\t:\t\t conj \t\t:\t\t peaks \n\nfolds \t\t:\t\t folds \t\t:\t\t conj \t\t:\t\t peaks \n\nrifts \t\t:\t\t rifts \t\t:\t\t conj \t\t:\t\t folds \n\nplaces \t\t:\t\t places \t\t:\t\t dobj \t\t:\t\t hiding \n\na virus \t\t:\t\t virus \t\t:\t\t nsubj \t\t:\t\t stick \n\nyou \t\t:\t\t you \t\t:\t\t nsubj \t\t:\t\t touch \n\nyour face \t\t:\t\t face \t\t:\t\t dobj \t\t:\t\t touch \n\nthe virus \t\t:\t\t virus \t\t:\t\t nsubj \t\t:\t\t infect \n\nyou \t\t:\t\t you \t\t:\t\t dobj \t\t:\t\t infect \n\ntwo extraordinarily simple ways \t\t:\t\t ways \t\t:\t\t attr \t\t:\t\t are \n\nyou \t\t:\t\t you \t\t:\t\t nsubj \t\t:\t\t keep \n\nsoap \t\t:\t\t soap \t\t:\t\t dobj \t\t:\t\t happening \n\nwater \t\t:\t\t water \t\t:\t\t conj \t\t:\t\t soap \n\nhand sanitizer \t\t:\t\t sanitizer \t\t:\t\t conj \t\t:\t\t soap \n\nAlex Rosenthal \t\t:\t\t Rosenthal \t\t:\t\t nsubj \t\t:\t\t investigate \n\nPall Thordarson \t\t:\t\t Thordarson \t\t:\t\t conj \t\t:\t\t Rosenthal \n\n"
    }
   ],
   "source": [
    "for sent in sentences:\n",
    "    for chunk in sent.noun_chunks:\n",
    "        print(chunk.text, \"\\t\\t:\\t\\t\", chunk.root.text, \"\\t\\t:\\t\\t\", chunk.root.dep_, \"\\t\\t:\\t\\t\",\n",
    "                chunk.root.head.text, \"\\n\")"
   ]
  },
  {
   "cell_type": "code",
   "execution_count": null,
   "metadata": {},
   "outputs": [],
   "source": []
  }
 ],
 "metadata": {
  "language_info": {
   "codemirror_mode": {
    "name": "ipython",
    "version": 3
   },
   "file_extension": ".py",
   "mimetype": "text/x-python",
   "name": "python",
   "nbconvert_exporter": "python",
   "pygments_lexer": "ipython3",
   "version": "3.7.5-final"
  },
  "orig_nbformat": 2,
  "kernelspec": {
   "name": "python37564bitf28563963b194bea8bf61065b29285d3",
   "display_name": "Python 3.7.5 64-bit"
  }
 },
 "nbformat": 4,
 "nbformat_minor": 2
}